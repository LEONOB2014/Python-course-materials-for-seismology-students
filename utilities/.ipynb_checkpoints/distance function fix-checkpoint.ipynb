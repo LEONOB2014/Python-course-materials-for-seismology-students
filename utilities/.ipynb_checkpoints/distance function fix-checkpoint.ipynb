{
 "cells": [
  {
   "cell_type": "code",
   "execution_count": 1,
   "metadata": {
    "collapsed": true
   },
   "outputs": [],
   "source": [
    "import numpy as np\n",
    "from scipy import spatial\n",
    "from geopy.distance import great_circle\n",
    "from utilities import import_export\n",
    "from mpl_toolkits.basemap import Basemap\n",
    "import pandas as pd"
   ]
  },
  {
   "cell_type": "code",
   "execution_count": 2,
   "metadata": {
    "collapsed": true
   },
   "outputs": [],
   "source": [
    "df = import_export.import_catalog(location='/home/max/research/kumamoto/data/ccu.dat', delimiter='\\t', names=['lon', 'lat', 'decimal_year', 'month', 'day', 'mag'\n",
    "                                                        , 'depth', 'hour', 'minute', 'second', 'horizontal_error'\n",
    "                                                        , 'depth_error', 'mag_err'])"
   ]
  },
  {
   "cell_type": "code",
   "execution_count": 3,
   "metadata": {
    "collapsed": true
   },
   "outputs": [],
   "source": [
    "m = Basemap(projection='merc')"
   ]
  },
  {
   "cell_type": "code",
   "execution_count": 4,
   "metadata": {
    "collapsed": true
   },
   "outputs": [],
   "source": [
    "x, y = m(df['lon'].values, df['lat'].values)"
   ]
  },
  {
   "cell_type": "code",
   "execution_count": 5,
   "metadata": {
    "collapsed": true
   },
   "outputs": [],
   "source": [
    "df['x'], df['y'] = x, y"
   ]
  },
  {
   "cell_type": "code",
   "execution_count": 6,
   "metadata": {
    "collapsed": true
   },
   "outputs": [],
   "source": [
    "df['depth'] = df['depth'] * 1000."
   ]
  },
  {
   "cell_type": "code",
   "execution_count": 7,
   "metadata": {},
   "outputs": [
    {
     "data": {
      "text/html": [
       "<div>\n",
       "<table border=\"1\" class=\"dataframe\">\n",
       "  <thead>\n",
       "    <tr style=\"text-align: right;\">\n",
       "      <th></th>\n",
       "      <th>lon</th>\n",
       "      <th>lat</th>\n",
       "      <th>decimal_year</th>\n",
       "      <th>month</th>\n",
       "      <th>day</th>\n",
       "      <th>mag</th>\n",
       "      <th>depth</th>\n",
       "      <th>hour</th>\n",
       "      <th>minute</th>\n",
       "      <th>second</th>\n",
       "      <th>horizontal_error</th>\n",
       "      <th>depth_error</th>\n",
       "      <th>mag_err</th>\n",
       "      <th>x</th>\n",
       "      <th>y</th>\n",
       "    </tr>\n",
       "    <tr>\n",
       "      <th>timestamp</th>\n",
       "      <th></th>\n",
       "      <th></th>\n",
       "      <th></th>\n",
       "      <th></th>\n",
       "      <th></th>\n",
       "      <th></th>\n",
       "      <th></th>\n",
       "      <th></th>\n",
       "      <th></th>\n",
       "      <th></th>\n",
       "      <th></th>\n",
       "      <th></th>\n",
       "      <th></th>\n",
       "      <th></th>\n",
       "      <th></th>\n",
       "    </tr>\n",
       "  </thead>\n",
       "  <tbody>\n",
       "    <tr>\n",
       "      <th>1989-12-31 15:12:50.899987</th>\n",
       "      <td>139.963333</td>\n",
       "      <td>37.326667</td>\n",
       "      <td>1989.998997</td>\n",
       "      <td>12.0</td>\n",
       "      <td>31.0</td>\n",
       "      <td>1.9</td>\n",
       "      <td>6400.0</td>\n",
       "      <td>15.0</td>\n",
       "      <td>12.0</td>\n",
       "      <td>50.900002</td>\n",
       "      <td>1.752955</td>\n",
       "      <td>3.7</td>\n",
       "      <td>NaN</td>\n",
       "      <td>3.557828e+07</td>\n",
       "      <td>6.402652e+07</td>\n",
       "    </tr>\n",
       "  </tbody>\n",
       "</table>\n",
       "</div>"
      ],
      "text/plain": [
       "                                   lon        lat  decimal_year  month   day  \\\n",
       "timestamp                                                                      \n",
       "1989-12-31 15:12:50.899987  139.963333  37.326667   1989.998997   12.0  31.0   \n",
       "\n",
       "                            mag   depth  hour  minute     second  \\\n",
       "timestamp                                                          \n",
       "1989-12-31 15:12:50.899987  1.9  6400.0  15.0    12.0  50.900002   \n",
       "\n",
       "                            horizontal_error  depth_error  mag_err  \\\n",
       "timestamp                                                            \n",
       "1989-12-31 15:12:50.899987          1.752955          3.7      NaN   \n",
       "\n",
       "                                       x             y  \n",
       "timestamp                                               \n",
       "1989-12-31 15:12:50.899987  3.557828e+07  6.402652e+07  "
      ]
     },
     "execution_count": 7,
     "metadata": {},
     "output_type": "execute_result"
    }
   ],
   "source": [
    "df.head(1)"
   ]
  },
  {
   "cell_type": "code",
   "execution_count": 8,
   "metadata": {
    "collapsed": true
   },
   "outputs": [],
   "source": [
    "ax, ay = m(132, 30)\n",
    "az = 0\n",
    "a = [132, 30, ax, ay, az]\n",
    "a = pd.DataFrame([a], columns=['lon', 'lat', 'x', 'y', 'depth'])\n",
    "b = df[['lat', 'lon', 'x', 'y', 'depth']].head(1)"
   ]
  },
  {
   "cell_type": "code",
   "execution_count": 62,
   "metadata": {
    "collapsed": true
   },
   "outputs": [],
   "source": [
    "def cartesian_distance_between_two_cartesian_vectors(vector_a, vector_b):\n",
    "    \"\"\"\n",
    "    Calculates cartesian distance between two 3d points\n",
    "    \n",
    "    assumes xy values are in meters\n",
    "    \"\"\"    \n",
    "    va = vector_a[['x', 'y', 'depth']].values\n",
    "    vb = vector_b[['x', 'y', 'depth']].values\n",
    "    \n",
    "    dist = spatial.distance.cdist(va, vb)\n",
    "    return dist[0][0]"
   ]
  },
  {
   "cell_type": "code",
   "execution_count": 64,
   "metadata": {},
   "outputs": [
    {
     "data": {
      "text/html": [
       "<div>\n",
       "<table border=\"1\" class=\"dataframe\">\n",
       "  <thead>\n",
       "    <tr style=\"text-align: right;\">\n",
       "      <th></th>\n",
       "      <th>lon</th>\n",
       "      <th>lat</th>\n",
       "      <th>x</th>\n",
       "      <th>y</th>\n",
       "      <th>depth</th>\n",
       "    </tr>\n",
       "  </thead>\n",
       "  <tbody>\n",
       "    <tr>\n",
       "      <th>0</th>\n",
       "      <td>132</td>\n",
       "      <td>30</td>\n",
       "      <td>3.469280e+07</td>\n",
       "      <td>6.304643e+07</td>\n",
       "      <td>0</td>\n",
       "    </tr>\n",
       "  </tbody>\n",
       "</table>\n",
       "</div>"
      ],
      "text/plain": [
       "   lon  lat             x             y  depth\n",
       "0  132   30  3.469280e+07  6.304643e+07      0"
      ]
     },
     "execution_count": 64,
     "metadata": {},
     "output_type": "execute_result"
    }
   ],
   "source": [
    "a"
   ]
  },
  {
   "cell_type": "code",
   "execution_count": 65,
   "metadata": {},
   "outputs": [
    {
     "data": {
      "text/html": [
       "<div>\n",
       "<table border=\"1\" class=\"dataframe\">\n",
       "  <thead>\n",
       "    <tr style=\"text-align: right;\">\n",
       "      <th></th>\n",
       "      <th>lat</th>\n",
       "      <th>lon</th>\n",
       "      <th>x</th>\n",
       "      <th>y</th>\n",
       "      <th>depth</th>\n",
       "    </tr>\n",
       "    <tr>\n",
       "      <th>timestamp</th>\n",
       "      <th></th>\n",
       "      <th></th>\n",
       "      <th></th>\n",
       "      <th></th>\n",
       "      <th></th>\n",
       "    </tr>\n",
       "  </thead>\n",
       "  <tbody>\n",
       "    <tr>\n",
       "      <th>1989-12-31 15:12:50.899987</th>\n",
       "      <td>37.326667</td>\n",
       "      <td>139.963333</td>\n",
       "      <td>3.557828e+07</td>\n",
       "      <td>6.402652e+07</td>\n",
       "      <td>6400.0</td>\n",
       "    </tr>\n",
       "  </tbody>\n",
       "</table>\n",
       "</div>"
      ],
      "text/plain": [
       "                                  lat         lon             x             y  \\\n",
       "timestamp                                                                       \n",
       "1989-12-31 15:12:50.899987  37.326667  139.963333  3.557828e+07  6.402652e+07   \n",
       "\n",
       "                             depth  \n",
       "timestamp                           \n",
       "1989-12-31 15:12:50.899987  6400.0  "
      ]
     },
     "execution_count": 65,
     "metadata": {},
     "output_type": "execute_result"
    }
   ],
   "source": [
    "b"
   ]
  },
  {
   "cell_type": "code",
   "execution_count": 66,
   "metadata": {},
   "outputs": [
    {
     "data": {
      "text/plain": [
       "1320869.232200433"
      ]
     },
     "execution_count": 66,
     "metadata": {},
     "output_type": "execute_result"
    }
   ],
   "source": [
    "cartesian_distance_between_two_cartesian_vectors(vector_a=a, vector_b=b)"
   ]
  },
  {
   "cell_type": "code",
   "execution_count": 70,
   "metadata": {},
   "outputs": [
    {
     "data": {
      "text/html": [
       "<div>\n",
       "<table border=\"1\" class=\"dataframe\">\n",
       "  <thead>\n",
       "    <tr style=\"text-align: right;\">\n",
       "      <th></th>\n",
       "      <th>lon</th>\n",
       "      <th>lat</th>\n",
       "    </tr>\n",
       "    <tr>\n",
       "      <th>timestamp</th>\n",
       "      <th></th>\n",
       "      <th></th>\n",
       "    </tr>\n",
       "  </thead>\n",
       "  <tbody>\n",
       "    <tr>\n",
       "      <th>1989-12-31 15:12:50.899987</th>\n",
       "      <td>139.963333</td>\n",
       "      <td>37.326667</td>\n",
       "    </tr>\n",
       "  </tbody>\n",
       "</table>\n",
       "</div>"
      ],
      "text/plain": [
       "                                   lon        lat\n",
       "timestamp                                        \n",
       "1989-12-31 15:12:50.899987  139.963333  37.326667"
      ]
     },
     "execution_count": 70,
     "metadata": {},
     "output_type": "execute_result"
    }
   ],
   "source": [
    "df.head(1)[['lon', 'lat']]"
   ]
  },
  {
   "cell_type": "code",
   "execution_count": 125,
   "metadata": {},
   "outputs": [],
   "source": [
    "def _cylinder_cartesian_distance_between_two_coordinates(coordinate_a, coordinate_b):\n",
    "    \"\"\"\n",
    "    calculates distance between two lat/lon coordinates\n",
    "    \n",
    "    does not use depth in calculation\n",
    "    \"\"\"\n",
    "#     # TODO: lets maintain the vector format shall we?\n",
    "#     lon_a, lat_a = coordinate_a[['lon', 'lat']]\n",
    "#     lon_b, lat_b = coordinate_b\n",
    "    \n",
    "    lon_a, lat_a = coordinate_a.lon.values[0], coordinate_a.lat.values[0]\n",
    "    lon_b, lat_b = coordinate_b.lon.values[0], coordinate_b.lat.values[0]\n",
    "    \n",
    "    # TODO: account for international dateline\n",
    "    lat_diff = lat_a - lat_b\n",
    "    lon_diff = lon_a - lon_b\n",
    "    \n",
    "    # TODO: convert to kilometers\n",
    "    lat_km = 111.19 * 1e3 * lat_diff\n",
    "\n",
    "    lat_radians = np.deg2rad(lat_a)\n",
    "    \n",
    "    # TODO: convert to kilometers\n",
    "    lon_km = 111.19 * 1e3 * lon_diff * np.cos(lat_radians)\n",
    "    \n",
    "    # TODO: what's going on here?\n",
    "    x, y = np.array([lon_km, lat_km])\n",
    "    \n",
    "    return np.sqrt(x ** 2 + y ** 2)\n",
    "\n",
    "def _sphere_cartesian_distance_between_two_coordinates(coordinate_a, coordinate_b):\n",
    "    \"\"\"\n",
    "    calculates distance between two lat/lon coordinates\n",
    "    \n",
    "    does not use depth in calculation\n",
    "    \"\"\"\n",
    "    lon_a, lat_a = coordinate_a.lon.values[0], coordinate_a.lat.values[0]\n",
    "    lon_b, lat_b = coordinate_b.lon.values[0], coordinate_b.lat.values[0]\n",
    "    depth_a, depth_b = coordinate_a.depth.values[0], coordinate_b.depth.values[0]\n",
    "\n",
    "    # TODO: convert to list type point a and point b\n",
    "    # TODO: account for international dateline\n",
    "    lat_diff = lat_a - lat_b\n",
    "    lon_diff = lon_a - lon_b\n",
    "    depth_diff = depth_a - depth_b\n",
    "    \n",
    "    # TODO: convert to kilometers\n",
    "    lat_km = 111.19 * 1e3 * lat_diff\n",
    "\n",
    "    lat_radians = np.deg2rad(lat_a)\n",
    "    \n",
    "    lon_km = 111.19 * 1e3 * lon_diff * np.cos(lat_radians)\n",
    "    \n",
    "    # TODO: what's going on here?\n",
    "    x, y = np.array([lon_km, lat_km])\n",
    "    \n",
    "    return np.sqrt(x ** 2 + y ** 2 + depth_diff ** 2)\n",
    "\n",
    "def cartesian_distance_between_two_coordinates(coordinate_a, coordinate_b, shape='cylinder'):\n",
    "    dist_func = {'cylinder': _cylinder_cartesian_distance_between_two_coordinates\n",
    "                ,'sphere': _sphere_cartesian_distance_between_two_coordinates}\n",
    "    \n",
    "    return dist_func[shape](coordinate_a, coordinate_b)\n"
   ]
  },
  {
   "cell_type": "code",
   "execution_count": 126,
   "metadata": {},
   "outputs": [
    {
     "data": {
      "text/html": [
       "<div>\n",
       "<table border=\"1\" class=\"dataframe\">\n",
       "  <thead>\n",
       "    <tr style=\"text-align: right;\">\n",
       "      <th></th>\n",
       "      <th>lon</th>\n",
       "      <th>lat</th>\n",
       "      <th>x</th>\n",
       "      <th>y</th>\n",
       "      <th>depth</th>\n",
       "    </tr>\n",
       "  </thead>\n",
       "  <tbody>\n",
       "    <tr>\n",
       "      <th>0</th>\n",
       "      <td>132</td>\n",
       "      <td>30</td>\n",
       "      <td>3.469280e+07</td>\n",
       "      <td>6.304643e+07</td>\n",
       "      <td>0</td>\n",
       "    </tr>\n",
       "  </tbody>\n",
       "</table>\n",
       "</div>"
      ],
      "text/plain": [
       "   lon  lat             x             y  depth\n",
       "0  132   30  3.469280e+07  6.304643e+07      0"
      ]
     },
     "execution_count": 126,
     "metadata": {},
     "output_type": "execute_result"
    }
   ],
   "source": [
    "a"
   ]
  },
  {
   "cell_type": "code",
   "execution_count": 127,
   "metadata": {},
   "outputs": [
    {
     "data": {
      "text/html": [
       "<div>\n",
       "<table border=\"1\" class=\"dataframe\">\n",
       "  <thead>\n",
       "    <tr style=\"text-align: right;\">\n",
       "      <th></th>\n",
       "      <th>lat</th>\n",
       "      <th>lon</th>\n",
       "      <th>x</th>\n",
       "      <th>y</th>\n",
       "      <th>depth</th>\n",
       "    </tr>\n",
       "    <tr>\n",
       "      <th>timestamp</th>\n",
       "      <th></th>\n",
       "      <th></th>\n",
       "      <th></th>\n",
       "      <th></th>\n",
       "      <th></th>\n",
       "    </tr>\n",
       "  </thead>\n",
       "  <tbody>\n",
       "    <tr>\n",
       "      <th>1989-12-31 15:12:50.899987</th>\n",
       "      <td>37.326667</td>\n",
       "      <td>139.963333</td>\n",
       "      <td>3.557828e+07</td>\n",
       "      <td>6.402652e+07</td>\n",
       "      <td>6400.0</td>\n",
       "    </tr>\n",
       "  </tbody>\n",
       "</table>\n",
       "</div>"
      ],
      "text/plain": [
       "                                  lat         lon             x             y  \\\n",
       "timestamp                                                                       \n",
       "1989-12-31 15:12:50.899987  37.326667  139.963333  3.557828e+07  6.402652e+07   \n",
       "\n",
       "                             depth  \n",
       "timestamp                           \n",
       "1989-12-31 15:12:50.899987  6400.0  "
      ]
     },
     "execution_count": 127,
     "metadata": {},
     "output_type": "execute_result"
    }
   ],
   "source": [
    "b"
   ]
  },
  {
   "cell_type": "code",
   "execution_count": 128,
   "metadata": {},
   "outputs": [
    {
     "data": {
      "text/plain": [
       "1118778.3626994276"
      ]
     },
     "execution_count": 128,
     "metadata": {},
     "output_type": "execute_result"
    }
   ],
   "source": [
    "cartesian_distance_between_two_coordinates(a, b)"
   ]
  },
  {
   "cell_type": "code",
   "execution_count": 129,
   "metadata": {},
   "outputs": [
    {
     "data": {
      "text/plain": [
       "1118796.6682308328"
      ]
     },
     "execution_count": 129,
     "metadata": {},
     "output_type": "execute_result"
    }
   ],
   "source": [
    "cartesian_distance_between_two_coordinates(a, b, shape='sphere')"
   ]
  },
  {
   "cell_type": "code",
   "execution_count": 89,
   "metadata": {},
   "outputs": [
    {
     "data": {
      "text/plain": [
       "-7.9633330000000058"
      ]
     },
     "execution_count": 89,
     "metadata": {},
     "output_type": "execute_result"
    }
   ],
   "source": [
    "a.lon.values[0] - b.lon.values[0]"
   ]
  },
  {
   "cell_type": "code",
   "execution_count": 12,
   "metadata": {
    "collapsed": true
   },
   "outputs": [],
   "source": [
    "def great_circle_distance_between_two_coordinates(coordinate_a, coordinate_b, **kwargs):\n",
    "    \"\"\"\n",
    "    calculates the great circle distance between two coordinate points\n",
    "\n",
    "    :param coordinate_a:\n",
    "    :type coordinate_a:\n",
    "    :param coordinate_b:\n",
    "    :type coordinate_b:\n",
    "    :return:\n",
    "    :rtype:\n",
    "    \"\"\"\n",
    "    ca = coordinate_a[['lat', 'lon']].values[0]\n",
    "    cb = coordinate_b[['lat', 'lon']].values[0]\n",
    "    print(ca)\n",
    "    print(cb)\n",
    "    return great_circle(ca, cb, **kwargs).meters"
   ]
  },
  {
   "cell_type": "code",
   "execution_count": 13,
   "metadata": {},
   "outputs": [
    {
     "data": {
      "text/plain": [
       "array([ 30, 132])"
      ]
     },
     "execution_count": 13,
     "metadata": {},
     "output_type": "execute_result"
    }
   ],
   "source": [
    "a[['lat', 'lon']].values[0]"
   ]
  },
  {
   "cell_type": "code",
   "execution_count": 14,
   "metadata": {},
   "outputs": [
    {
     "name": "stdout",
     "output_type": "stream",
     "text": [
      "[ 30 132]\n",
      "[  37.326667  139.963333]\n"
     ]
    },
    {
     "data": {
      "text/plain": [
       "1097980.59376895"
      ]
     },
     "execution_count": 14,
     "metadata": {},
     "output_type": "execute_result"
    }
   ],
   "source": [
    "great_circle_distance_between_two_coordinates(a, b)"
   ]
  },
  {
   "cell_type": "code",
   "execution_count": 142,
   "metadata": {},
   "outputs": [
    {
     "data": {
      "text/html": [
       "<div>\n",
       "<table border=\"1\" class=\"dataframe\">\n",
       "  <thead>\n",
       "    <tr style=\"text-align: right;\">\n",
       "      <th></th>\n",
       "      <th>lon</th>\n",
       "      <th>lat</th>\n",
       "      <th>x</th>\n",
       "      <th>y</th>\n",
       "      <th>depth</th>\n",
       "    </tr>\n",
       "  </thead>\n",
       "  <tbody>\n",
       "    <tr>\n",
       "      <th>0</th>\n",
       "      <td>132</td>\n",
       "      <td>30</td>\n",
       "      <td>3.469280e+07</td>\n",
       "      <td>6.304643e+07</td>\n",
       "      <td>0</td>\n",
       "    </tr>\n",
       "  </tbody>\n",
       "</table>\n",
       "</div>"
      ],
      "text/plain": [
       "   lon  lat             x             y  depth\n",
       "0  132   30  3.469280e+07  6.304643e+07      0"
      ]
     },
     "execution_count": 142,
     "metadata": {},
     "output_type": "execute_result"
    }
   ],
   "source": [
    "a"
   ]
  },
  {
   "cell_type": "code",
   "execution_count": 143,
   "metadata": {},
   "outputs": [
    {
     "data": {
      "text/html": [
       "<div>\n",
       "<table border=\"1\" class=\"dataframe\">\n",
       "  <thead>\n",
       "    <tr style=\"text-align: right;\">\n",
       "      <th></th>\n",
       "      <th>lat</th>\n",
       "      <th>lon</th>\n",
       "      <th>x</th>\n",
       "      <th>y</th>\n",
       "      <th>depth</th>\n",
       "    </tr>\n",
       "    <tr>\n",
       "      <th>timestamp</th>\n",
       "      <th></th>\n",
       "      <th></th>\n",
       "      <th></th>\n",
       "      <th></th>\n",
       "      <th></th>\n",
       "    </tr>\n",
       "  </thead>\n",
       "  <tbody>\n",
       "    <tr>\n",
       "      <th>1989-12-31 15:12:50.899987</th>\n",
       "      <td>37.326667</td>\n",
       "      <td>139.963333</td>\n",
       "      <td>3.557828e+07</td>\n",
       "      <td>6.402652e+07</td>\n",
       "      <td>6400.0</td>\n",
       "    </tr>\n",
       "  </tbody>\n",
       "</table>\n",
       "</div>"
      ],
      "text/plain": [
       "                                  lat         lon             x             y  \\\n",
       "timestamp                                                                       \n",
       "1989-12-31 15:12:50.899987  37.326667  139.963333  3.557828e+07  6.402652e+07   \n",
       "\n",
       "                             depth  \n",
       "timestamp                           \n",
       "1989-12-31 15:12:50.899987  6400.0  "
      ]
     },
     "execution_count": 143,
     "metadata": {},
     "output_type": "execute_result"
    }
   ],
   "source": [
    "b"
   ]
  },
  {
   "cell_type": "code",
   "execution_count": null,
   "metadata": {
    "collapsed": true
   },
   "outputs": [],
   "source": []
  }
 ],
 "metadata": {
  "kernelspec": {
   "display_name": "Python 3",
   "language": "python",
   "name": "python3"
  },
  "language_info": {
   "codemirror_mode": {
    "name": "ipython",
    "version": 3
   },
   "file_extension": ".py",
   "mimetype": "text/x-python",
   "name": "python",
   "nbconvert_exporter": "python",
   "pygments_lexer": "ipython3",
   "version": "3.5.3"
  }
 },
 "nbformat": 4,
 "nbformat_minor": 2
}
