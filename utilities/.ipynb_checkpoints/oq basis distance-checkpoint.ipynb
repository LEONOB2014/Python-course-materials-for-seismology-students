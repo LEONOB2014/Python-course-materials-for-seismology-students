{
 "cells": [
  {
   "cell_type": "code",
   "execution_count": 1,
   "metadata": {
    "collapsed": true
   },
   "outputs": [],
   "source": [
    "import numpy as np\n",
    "#: Earth radius in km.\n",
    "EARTH_RADIUS = 6371.0\n",
    "\n",
    "#: Maximum elevation on Earth in km.\n",
    "EARTH_ELEVATION = -8.848\n",
    "\n",
    "\n",
    "def geodetic_distance(lons1, lats1, lons2, lats2, diameter=2*EARTH_RADIUS):\n",
    "    \"\"\"\n",
    "    Calculate the geodetic distance between two points or two collections\n",
    "    of points.\n",
    "    Parameters are coordinates in decimal degrees. They could be scalar\n",
    "    float numbers or numpy arrays, in which case they should \"broadcast\n",
    "    together\".\n",
    "    Implements http://williams.best.vwh.net/avform.htm#Dist\n",
    "    :returns:\n",
    "        Distance in km, floating point scalar or numpy array of such.\n",
    "    \"\"\"\n",
    "    lons1, lats1, lons2, lats2 = _prepare_coords(lons1, lats1, lons2, lats2)\n",
    "    distance = np.arcsin(np.sqrt(\n",
    "        np.sin((lats1 - lats2) / 2.0) ** 2.0\n",
    "        + np.cos(lats1) * np.cos(lats2)\n",
    "        * np.sin((lons1 - lons2) / 2.0) ** 2.0\n",
    "    ))\n",
    "    return diameter * distance\n",
    "\n",
    "\n",
    "def azimuth(lons1, lats1, lons2, lats2):\n",
    "    \"\"\"\n",
    "    Calculate the azimuth between two points or two collections of points.\n",
    "    Parameters are the same as for :func:`geodetic_distance`.\n",
    "    Implements an \"alternative formula\" from\n",
    "    http://williams.best.vwh.net/avform.htm#Crs\n",
    "    :returns:\n",
    "        Azimuth as an angle between direction to north from first point and\n",
    "        direction to the second point measured clockwise in decimal degrees.\n",
    "    \"\"\"\n",
    "    lons1, lats1, lons2, lats2 = _prepare_coords(lons1, lats1, lons2, lats2)\n",
    "    cos_lat2 = np.cos(lats2)\n",
    "    true_course = np.degrees(np.arctan2(\n",
    "        np.sin(lons1 - lons2) * cos_lat2,\n",
    "        np.cos(lats1) * np.sin(lats2)\n",
    "        - np.sin(lats1) * cos_lat2 * np.cos(lons1 - lons2)\n",
    "    ))\n",
    "    return (360 - true_course) % 360\n",
    "\n",
    "\n",
    "def distance(lons1, lats1, depths1, lons2, lats2, depths2):\n",
    "    \"\"\"\n",
    "    Calculate a distance between two points (or collections of points)\n",
    "    considering points' depth.\n",
    "    Calls :func:`geodetic_distance`, finds the \"vertical\" distance between\n",
    "    points by subtracting one depth from another and combine both using\n",
    "    Pythagoras theorem.\n",
    "    :returns:\n",
    "        Distance in km, a square root of sum of squares of :func:`geodetic\n",
    "        <geodetic_distance>` distance and vertical distance, which is just\n",
    "        a difference between depths.\n",
    "    \"\"\"\n",
    "    hdist = geodetic_distance(lons1, lats1, lons2, lats2)\n",
    "    vdist = depths1 - depths2\n",
    "    return np.sqrt(hdist ** 2 + vdist ** 2)\n",
    "\n",
    "def _prepare_coords(lons1, lats1, lons2, lats2):\n",
    "    \"\"\"\n",
    "    Convert two pairs of spherical coordinates in decimal degrees\n",
    "    to numpy arrays of radians. Makes sure that respective coordinates\n",
    "    in pairs have the same shape.\n",
    "    \"\"\"\n",
    "    lons1 = np.radians(lons1)\n",
    "    lats1 = np.radians(lats1)\n",
    "    assert lons1.shape == lats1.shape\n",
    "    lons2 = np.radians(lons2)\n",
    "    lats2 = np.radians(lats2)\n",
    "    assert lons2.shape == lats2.shape\n",
    "    return lons1, lats1, lons2, lats2\n",
    "\n",
    "def great_circle(alon, alat, a_xoffset, a_yoffset, adepth\n",
    "                ,blon, blat, b_xoffset, b_yoffset, bdepth):\n",
    "    \"\"\"\n",
    "    calculates great circle including offsets\n",
    "    \"\"\"\n",
    "    alat_offset = a_yoffset / 111199. + alat\n",
    "    alon_offset = a_xoffset / 111199. * np.cos(np.deg2rad(alat_offset)) + alon\n",
    "    \n",
    "    blat_offset = b_yoffset / 111199. + blat\n",
    "    blon_offset = b_xoffset / 111199. * np.cos(np.deg2rad(blat_offset)) + blon\n",
    "    \n",
    "    return distance(alon_offset, alat_offset, adepth\n",
    "                   ,blon_offset, blat_offset, bdepth) * 1e3"
   ]
  },
  {
   "cell_type": "code",
   "execution_count": 2,
   "metadata": {
    "collapsed": true
   },
   "outputs": [],
   "source": [
    "from utilities import import_export\n",
    "from mpl_toolkits.basemap import Basemap\n",
    "import pandas as pd\n",
    "\n",
    "df = import_export.import_catalog(location='/home/max/research/kumamoto/data/ccu.dat', delimiter='\\t', names=['lon', 'lat', 'decimal_year', 'month', 'day', 'mag'\n",
    "                                                        , 'depth', 'hour', 'minute', 'second', 'horizontal_error'\n",
    "                                                        , 'depth_error', 'mag_err'])"
   ]
  },
  {
   "cell_type": "code",
   "execution_count": 12,
   "metadata": {
    "collapsed": true
   },
   "outputs": [],
   "source": [
    "ax, ay = (240, 25)#m(132, 30)\n",
    "az = 0\n",
    "a = [[132, 30, ax, ay, az]]\n",
    "a = pd.DataFrame(a, columns=['lon', 'lat', 'x', 'y', 'depth'], index=[pd.to_datetime('10-15-2015'),])\n",
    "a['depth'] = 25.\n",
    "df['x'] = 0\n",
    "df['y'] = 0\n",
    "b = df[['lat', 'lon', 'x', 'y', 'depth']].head(3)\n",
    "\n",
    "b['depth'] = [2, 3, 4]"
   ]
  },
  {
   "cell_type": "code",
   "execution_count": 13,
   "metadata": {},
   "outputs": [
    {
     "data": {
      "text/plain": [
       "1097.9122681294746"
      ]
     },
     "execution_count": 13,
     "metadata": {},
     "output_type": "execute_result"
    }
   ],
   "source": [
    "distance(a.lon.values[0], a.lat.values[0], a.depth.values[0]\n",
    "         , b.lon.values[0], b.lat.values[0], b.depth.values[0])"
   ]
  },
  {
   "cell_type": "code",
   "execution_count": 18,
   "metadata": {},
   "outputs": [
    {
     "data": {
      "text/plain": [
       "1097777.4880377506"
      ]
     },
     "execution_count": 18,
     "metadata": {},
     "output_type": "execute_result"
    }
   ],
   "source": [
    "great_circle(a.lon.values[0], a.lat.values[0], a.x.values[0], a.y.values[0], a.depth.values[0]\n",
    "         , b.lon.values[0], b.lat.values[0], b.x.values[0], b.y.values[0], b.depth.values[0])"
   ]
  },
  {
   "cell_type": "code",
   "execution_count": 46,
   "metadata": {
    "collapsed": true
   },
   "outputs": [],
   "source": [
    "def spherical_to_cartesian(lons, lats, depths):\n",
    "    \"\"\"\n",
    "    Return the position vectors (in Cartesian coordinates) of list of spherical\n",
    "    coordinates.\n",
    "\n",
    "    For equations see: http://mathworld.wolfram.com/SphericalCoordinates.html.\n",
    "\n",
    "    Parameters are components of spherical coordinates in a form of scalars,\n",
    "    lists or numpy arrays. ``depths`` can be ``None`` in which case it's\n",
    "    considered zero for all points.\n",
    "\n",
    "    :returns:\n",
    "        ``numpy.array`` of 3d vectors representing points' coordinates in\n",
    "        Cartesian space. The array has the same shape as parameter arrays.\n",
    "        In particular it means that if ``lons`` and ``lats`` are scalars,\n",
    "        the result is a single 3d vector. Vector of length ``1`` represents\n",
    "        distance of 1 km.\n",
    "\n",
    "    See also :func:`cartesian_to_spherical`.\n",
    "    \"\"\"\n",
    "    phi = np.radians(lons)\n",
    "    theta = np.radians(lats)\n",
    "    if depths is None:\n",
    "        rr = EARTH_RADIUS\n",
    "    else:\n",
    "        rr = EARTH_RADIUS - np.array(depths)\n",
    "    cos_theta_r = rr * np.cos(theta)\n",
    "    xx = cos_theta_r * np.cos(phi)\n",
    "    yy = cos_theta_r * np.sin(phi)\n",
    "    zz = rr * np.sin(theta)\n",
    "    vectors = np.array([xx.transpose(), yy.transpose(), zz.transpose()]) \\\n",
    "                   .transpose()\n",
    "    return vectors\n",
    "\n",
    "def cartesian_distance(alon, alat, a_xoffset, a_yoffset, adepth\n",
    "                ,blon, blat, b_xoffset, b_yoffset, bdepth):\n",
    "    \"\"\"\n",
    "    Calculates the cartesian distance between two points including offsets.\n",
    "    \"\"\"\n",
    "    a = spherical_to_cartesian(lons=alon, lats=alat, depths=adepth)\n",
    "    b = spherical_to_cartesian(lons=blon, lats=blat, depths=bdepth)\n",
    "    \n",
    "    a[0] = a[0] + a_xoffset * 1e3\n",
    "    a[1] = a[1] + a_yoffset * 1e3\n",
    "    \n",
    "    b[0] = b[0] + b_xoffset * 1e3\n",
    "    b[1] = b[1] + b_yoffset * 1e3\n",
    "    \n",
    "    dist = np.sqrt( (a[0] - b[0])**2 + (a[1] - b[1])**2 + (a[2] - b[2])**2)\n",
    "    return dist"
   ]
  },
  {
   "cell_type": "code",
   "execution_count": 47,
   "metadata": {},
   "outputs": [
    {
     "data": {
      "text/plain": [
       "1096312.3781431064"
      ]
     },
     "execution_count": 47,
     "metadata": {},
     "output_type": "execute_result"
    }
   ],
   "source": [
    "a = spherical_to_cartesian(lons=132, lats=30, depths=0)\n",
    "b = spherical_to_cartesian(lons=139.9633, lats=37.32667, depths=0)\n",
    "\n",
    "np.sqrt((a[0] - b[0])**2 + (a[1] - b[1])**2 + (a[2] - b[2])**2) * 1e3"
   ]
  },
  {
   "cell_type": "code",
   "execution_count": 50,
   "metadata": {},
   "outputs": [
    {
     "data": {
      "text/plain": [
       "1096312.3781431064"
      ]
     },
     "execution_count": 50,
     "metadata": {},
     "output_type": "execute_result"
    }
   ],
   "source": [
    "cartesian_distance(132, 30, 0, 0, 0\n",
    "                  ,139.9633, 37.32667, 0, 0, 0) * 1e3"
   ]
  },
  {
   "cell_type": "code",
   "execution_count": 29,
   "metadata": {},
   "outputs": [
    {
     "data": {
      "text/plain": [
       "1097669.5261766417"
      ]
     },
     "execution_count": 29,
     "metadata": {},
     "output_type": "execute_result"
    }
   ],
   "source": [
    "great_circle(132, 30, 0, 0, 0\n",
    "            ,139.9633, 37.32667, 0, 0, 0)"
   ]
  }
 ],
 "metadata": {
  "kernelspec": {
   "display_name": "Python 3",
   "language": "python",
   "name": "python3"
  },
  "language_info": {
   "codemirror_mode": {
    "name": "ipython",
    "version": 3
   },
   "file_extension": ".py",
   "mimetype": "text/x-python",
   "name": "python",
   "nbconvert_exporter": "python",
   "pygments_lexer": "ipython3",
   "version": "3.5.3"
  }
 },
 "nbformat": 4,
 "nbformat_minor": 2
}
