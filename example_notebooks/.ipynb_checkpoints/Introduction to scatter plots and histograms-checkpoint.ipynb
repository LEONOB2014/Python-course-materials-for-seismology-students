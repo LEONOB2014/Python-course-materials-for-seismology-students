{
 "cells": [
  {
   "cell_type": "markdown",
   "metadata": {},
   "source": [
    "# Introduction to scatter plots\n",
    "\n",
    "This lesson will introduce scatter plots and how to make them in several different ways.We will start by importing the ANSS earthquake catalog which you can download [here](http://www.ncedc.org/anss/catalog-search.html). \n",
    "\n",
    "The catalog provided is for magnitude >= 5 events occurring between 2002 and 2017 worldwide. For easy import, it is best to download a CSV version."
   ]
  },
  {
   "cell_type": "code",
   "execution_count": 10,
   "metadata": {
    "collapsed": true
   },
   "outputs": [],
   "source": [
    "%matplotlib inline\n",
    "import pandas as pd"
   ]
  },
  {
   "cell_type": "code",
   "execution_count": 11,
   "metadata": {
    "collapsed": true
   },
   "outputs": [],
   "source": [
    "# read the data, set space delimiter, and get rid of the dash line in 1st line after header\n",
    "df = pd.read_csv('data/anss.csv')"
   ]
  },
  {
   "cell_type": "code",
   "execution_count": 12,
   "metadata": {},
   "outputs": [
    {
     "data": {
      "text/html": [
       "<div>\n",
       "<style>\n",
       "    .dataframe thead tr:only-child th {\n",
       "        text-align: right;\n",
       "    }\n",
       "\n",
       "    .dataframe thead th {\n",
       "        text-align: left;\n",
       "    }\n",
       "\n",
       "    .dataframe tbody tr th {\n",
       "        vertical-align: top;\n",
       "    }\n",
       "</style>\n",
       "<table border=\"1\" class=\"dataframe\">\n",
       "  <thead>\n",
       "    <tr style=\"text-align: right;\">\n",
       "      <th></th>\n",
       "      <th>DateTime</th>\n",
       "      <th>Latitude</th>\n",
       "      <th>Longitude</th>\n",
       "      <th>Depth</th>\n",
       "      <th>Magnitude</th>\n",
       "      <th>MagType</th>\n",
       "      <th>NbStations</th>\n",
       "      <th>Gap</th>\n",
       "      <th>Distance</th>\n",
       "      <th>RMS</th>\n",
       "      <th>Source</th>\n",
       "      <th>EventID</th>\n",
       "    </tr>\n",
       "  </thead>\n",
       "  <tbody>\n",
       "    <tr>\n",
       "      <th>0</th>\n",
       "      <td>1997/01/01 04:35:51.88</td>\n",
       "      <td>6.813</td>\n",
       "      <td>-72.894</td>\n",
       "      <td>163.7</td>\n",
       "      <td>5.3</td>\n",
       "      <td>Mw</td>\n",
       "      <td>150</td>\n",
       "      <td>NaN</td>\n",
       "      <td>NaN</td>\n",
       "      <td>1.10</td>\n",
       "      <td>NEI</td>\n",
       "      <td>1.997010e+11</td>\n",
       "    </tr>\n",
       "    <tr>\n",
       "      <th>1</th>\n",
       "      <td>1997/01/01 22:32:32.30</td>\n",
       "      <td>-0.127</td>\n",
       "      <td>123.823</td>\n",
       "      <td>115.4</td>\n",
       "      <td>5.8</td>\n",
       "      <td>Me</td>\n",
       "      <td>178</td>\n",
       "      <td>NaN</td>\n",
       "      <td>NaN</td>\n",
       "      <td>1.01</td>\n",
       "      <td>NEI</td>\n",
       "      <td>1.997010e+11</td>\n",
       "    </tr>\n",
       "    <tr>\n",
       "      <th>2</th>\n",
       "      <td>1997/01/01 22:43:32.31</td>\n",
       "      <td>-5.977</td>\n",
       "      <td>129.665</td>\n",
       "      <td>177.0</td>\n",
       "      <td>5.0</td>\n",
       "      <td>Mb</td>\n",
       "      <td>31</td>\n",
       "      <td>NaN</td>\n",
       "      <td>NaN</td>\n",
       "      <td>0.77</td>\n",
       "      <td>NEI</td>\n",
       "      <td>1.997010e+11</td>\n",
       "    </tr>\n",
       "    <tr>\n",
       "      <th>3</th>\n",
       "      <td>1997/01/02 02:57:51.65</td>\n",
       "      <td>-23.860</td>\n",
       "      <td>-179.870</td>\n",
       "      <td>500.0</td>\n",
       "      <td>5.4</td>\n",
       "      <td>Mw</td>\n",
       "      <td>107</td>\n",
       "      <td>NaN</td>\n",
       "      <td>NaN</td>\n",
       "      <td>0.91</td>\n",
       "      <td>NEI</td>\n",
       "      <td>1.997010e+11</td>\n",
       "    </tr>\n",
       "    <tr>\n",
       "      <th>4</th>\n",
       "      <td>1997/01/02 10:52:35.03</td>\n",
       "      <td>10.568</td>\n",
       "      <td>92.742</td>\n",
       "      <td>33.0</td>\n",
       "      <td>5.1</td>\n",
       "      <td>Mb</td>\n",
       "      <td>117</td>\n",
       "      <td>NaN</td>\n",
       "      <td>NaN</td>\n",
       "      <td>0.95</td>\n",
       "      <td>NEI</td>\n",
       "      <td>1.997010e+11</td>\n",
       "    </tr>\n",
       "  </tbody>\n",
       "</table>\n",
       "</div>"
      ],
      "text/plain": [
       "                 DateTime  Latitude  Longitude  Depth  Magnitude MagType  \\\n",
       "0  1997/01/01 04:35:51.88     6.813    -72.894  163.7        5.3      Mw   \n",
       "1  1997/01/01 22:32:32.30    -0.127    123.823  115.4        5.8      Me   \n",
       "2  1997/01/01 22:43:32.31    -5.977    129.665  177.0        5.0      Mb   \n",
       "3  1997/01/02 02:57:51.65   -23.860   -179.870  500.0        5.4      Mw   \n",
       "4  1997/01/02 10:52:35.03    10.568     92.742   33.0        5.1      Mb   \n",
       "\n",
       "   NbStations  Gap  Distance   RMS Source       EventID  \n",
       "0         150  NaN       NaN  1.10    NEI  1.997010e+11  \n",
       "1         178  NaN       NaN  1.01    NEI  1.997010e+11  \n",
       "2          31  NaN       NaN  0.77    NEI  1.997010e+11  \n",
       "3         107  NaN       NaN  0.91    NEI  1.997010e+11  \n",
       "4         117  NaN       NaN  0.95    NEI  1.997010e+11  "
      ]
     },
     "execution_count": 12,
     "metadata": {},
     "output_type": "execute_result"
    }
   ],
   "source": [
    "df.head()"
   ]
  },
  {
   "cell_type": "markdown",
   "metadata": {},
   "source": [
    "What are these columns?\n",
    "\n",
    "Some are self explanatory but some are not:\n",
    "\n",
    "* MagType - magnitude type, the way the magnitude was calculated\n",
    "* NbStations - the number of stations used to locate the earthquake\n",
    "* Gap - azimuthal gap of stations used to locate the earthquake\n",
    "* RMS - root mean square error for the location\n",
    "* Source - network organization that reported the event\n",
    "* EventID - ID number assigned to the event\n"
   ]
  },
  {
   "cell_type": "code",
   "execution_count": 13,
   "metadata": {},
   "outputs": [
    {
     "data": {
      "text/html": [
       "<div>\n",
       "<style>\n",
       "    .dataframe thead tr:only-child th {\n",
       "        text-align: right;\n",
       "    }\n",
       "\n",
       "    .dataframe thead th {\n",
       "        text-align: left;\n",
       "    }\n",
       "\n",
       "    .dataframe tbody tr th {\n",
       "        vertical-align: top;\n",
       "    }\n",
       "</style>\n",
       "<table border=\"1\" class=\"dataframe\">\n",
       "  <thead>\n",
       "    <tr style=\"text-align: right;\">\n",
       "      <th></th>\n",
       "      <th>Latitude</th>\n",
       "      <th>Longitude</th>\n",
       "      <th>Depth</th>\n",
       "      <th>Magnitude</th>\n",
       "      <th>NbStations</th>\n",
       "      <th>Gap</th>\n",
       "      <th>Distance</th>\n",
       "      <th>RMS</th>\n",
       "      <th>EventID</th>\n",
       "    </tr>\n",
       "  </thead>\n",
       "  <tbody>\n",
       "    <tr>\n",
       "      <th>count</th>\n",
       "      <td>20835.000000</td>\n",
       "      <td>20835.000000</td>\n",
       "      <td>20835.000000</td>\n",
       "      <td>20835.000000</td>\n",
       "      <td>20835.000000</td>\n",
       "      <td>45.000000</td>\n",
       "      <td>45.000000</td>\n",
       "      <td>20816.000000</td>\n",
       "      <td>2.070000e+04</td>\n",
       "    </tr>\n",
       "    <tr>\n",
       "      <th>mean</th>\n",
       "      <td>1.175284</td>\n",
       "      <td>43.176381</td>\n",
       "      <td>59.520817</td>\n",
       "      <td>5.379757</td>\n",
       "      <td>155.590353</td>\n",
       "      <td>147.888889</td>\n",
       "      <td>36.555556</td>\n",
       "      <td>0.955277</td>\n",
       "      <td>1.997388e+11</td>\n",
       "    </tr>\n",
       "    <tr>\n",
       "      <th>std</th>\n",
       "      <td>29.037107</td>\n",
       "      <td>121.061153</td>\n",
       "      <td>103.214783</td>\n",
       "      <td>0.420100</td>\n",
       "      <td>125.361223</td>\n",
       "      <td>90.551146</td>\n",
       "      <td>56.182558</td>\n",
       "      <td>0.240399</td>\n",
       "      <td>1.138755e+10</td>\n",
       "    </tr>\n",
       "    <tr>\n",
       "      <th>min</th>\n",
       "      <td>-67.139000</td>\n",
       "      <td>-180.000000</td>\n",
       "      <td>-5.000000</td>\n",
       "      <td>5.000000</td>\n",
       "      <td>0.000000</td>\n",
       "      <td>26.000000</td>\n",
       "      <td>0.000000</td>\n",
       "      <td>0.000000</td>\n",
       "      <td>1.000000e+00</td>\n",
       "    </tr>\n",
       "    <tr>\n",
       "      <th>25%</th>\n",
       "      <td>-17.739000</td>\n",
       "      <td>-71.425000</td>\n",
       "      <td>10.000000</td>\n",
       "      <td>5.100000</td>\n",
       "      <td>63.000000</td>\n",
       "      <td>69.000000</td>\n",
       "      <td>6.000000</td>\n",
       "      <td>0.850000</td>\n",
       "      <td>2.001022e+11</td>\n",
       "    </tr>\n",
       "    <tr>\n",
       "      <th>50%</th>\n",
       "      <td>-3.068000</td>\n",
       "      <td>97.731000</td>\n",
       "      <td>33.000000</td>\n",
       "      <td>5.300000</td>\n",
       "      <td>117.000000</td>\n",
       "      <td>145.000000</td>\n",
       "      <td>14.000000</td>\n",
       "      <td>0.960000</td>\n",
       "      <td>2.004121e+11</td>\n",
       "    </tr>\n",
       "    <tr>\n",
       "      <th>75%</th>\n",
       "      <td>21.548000</td>\n",
       "      <td>142.606000</td>\n",
       "      <td>48.800000</td>\n",
       "      <td>5.500000</td>\n",
       "      <td>211.000000</td>\n",
       "      <td>225.000000</td>\n",
       "      <td>42.000000</td>\n",
       "      <td>1.090000</td>\n",
       "      <td>2.007072e+11</td>\n",
       "    </tr>\n",
       "    <tr>\n",
       "      <th>max</th>\n",
       "      <td>86.283000</td>\n",
       "      <td>179.998000</td>\n",
       "      <td>691.600000</td>\n",
       "      <td>9.000000</td>\n",
       "      <td>929.000000</td>\n",
       "      <td>347.000000</td>\n",
       "      <td>283.000000</td>\n",
       "      <td>1.890000</td>\n",
       "      <td>2.009123e+11</td>\n",
       "    </tr>\n",
       "  </tbody>\n",
       "</table>\n",
       "</div>"
      ],
      "text/plain": [
       "           Latitude     Longitude         Depth     Magnitude    NbStations  \\\n",
       "count  20835.000000  20835.000000  20835.000000  20835.000000  20835.000000   \n",
       "mean       1.175284     43.176381     59.520817      5.379757    155.590353   \n",
       "std       29.037107    121.061153    103.214783      0.420100    125.361223   \n",
       "min      -67.139000   -180.000000     -5.000000      5.000000      0.000000   \n",
       "25%      -17.739000    -71.425000     10.000000      5.100000     63.000000   \n",
       "50%       -3.068000     97.731000     33.000000      5.300000    117.000000   \n",
       "75%       21.548000    142.606000     48.800000      5.500000    211.000000   \n",
       "max       86.283000    179.998000    691.600000      9.000000    929.000000   \n",
       "\n",
       "              Gap    Distance           RMS       EventID  \n",
       "count   45.000000   45.000000  20816.000000  2.070000e+04  \n",
       "mean   147.888889   36.555556      0.955277  1.997388e+11  \n",
       "std     90.551146   56.182558      0.240399  1.138755e+10  \n",
       "min     26.000000    0.000000      0.000000  1.000000e+00  \n",
       "25%     69.000000    6.000000      0.850000  2.001022e+11  \n",
       "50%    145.000000   14.000000      0.960000  2.004121e+11  \n",
       "75%    225.000000   42.000000      1.090000  2.007072e+11  \n",
       "max    347.000000  283.000000      1.890000  2.009123e+11  "
      ]
     },
     "execution_count": 13,
     "metadata": {},
     "output_type": "execute_result"
    }
   ],
   "source": [
    "df.describe()"
   ]
  },
  {
   "cell_type": "markdown",
   "metadata": {},
   "source": [
    "Scatter plots are used to look at how two variables compare. For example, does the Magnitude of the earthquake correlate in some way to the number of stations that detected it?"
   ]
  },
  {
   "cell_type": "code",
   "execution_count": 14,
   "metadata": {},
   "outputs": [
    {
     "data": {
      "text/plain": [
       "<matplotlib.axes._subplots.AxesSubplot at 0x1106ba0b8>"
      ]
     },
     "execution_count": 14,
     "metadata": {},
     "output_type": "execute_result"
    },
    {
     "data": {
      "image/png": "[encoded data removed]",
      "text/plain": [
       "<matplotlib.figure.Figure at 0x10c441588>"
      ]
     },
     "metadata": {},
     "output_type": "display_data"
    }
   ],
   "source": [
    "df.plot(kind='scatter', x='Magnitude', y='NbStations')"
   ]
  },
  {
   "cell_type": "markdown",
   "metadata": {},
   "source": [
    "We can clean this plot up a lot though. Lets start by looking at the machinery that creates it."
   ]
  },
  {
   "cell_type": "code",
   "execution_count": 15,
   "metadata": {
    "collapsed": true
   },
   "outputs": [],
   "source": [
    "import matplotlib.pyplot as plt"
   ]
  },
  {
   "cell_type": "code",
   "execution_count": 16,
   "metadata": {},
   "outputs": [
    {
     "data": {
      "text/plain": [
       "<matplotlib.text.Text at 0x1106ddcc0>"
      ]
     },
     "execution_count": 16,
     "metadata": {},
     "output_type": "execute_result"
    },
    {
     "data": {
      "image/png": "[encoded data removed]",
      "text/plain": [
       "<matplotlib.figure.Figure at 0x110bc2080>"
      ]
     },
     "metadata": {},
     "output_type": "display_data"
    }
   ],
   "source": [
    "fig, ax = plt.subplots(1, figsize=(8,5))\n",
    "\n",
    "df.plot(ax=ax, kind='scatter', x='Magnitude', y='NbStations', alpha=0.15, edgecolor='None'\n",
    "       ,color='violet')\n",
    "\n",
    "ax.set_ylim(0, 1000)\n",
    "ax.set_xlim(4.5, 10)\n",
    "ax.grid(True)\n",
    "ax.set_title('Does the number of stations change for the magnitude?')\n",
    "\n",
    "ax.set_ylabel('Number of Stations')\n",
    "ax.set_xlabel('Magnitude')"
   ]
  },
  {
   "cell_type": "markdown",
   "metadata": {},
   "source": [
    "# Gutenberg-Richter plots"
   ]
  },
  {
   "cell_type": "markdown",
   "metadata": {},
   "source": [
    "In seismology, the Gutenberg–Richter law expresses the relationship between the magnitude and total number of earthquakes (that is the distribution) in any given region and time period of at least that magnitude.\n",
    "\n",
    "$log_{10}N = a -bM$\n",
    "\n",
    "or\n",
    "\n",
    "$N = 10^{a-bM}$\n",
    "\n",
    "Where:\n",
    "\n",
    "* $N$  is the number of events having a magnitude, $\\geq M$ \n",
    "* $a$  and $b$  are constants.\n",
    "\n",
    "It is assumed to be poissonian.\n",
    "\n",
    "To create the Gutenburg-Richter distribution of the earthquake magnitudes from the ANSS catalog, we are going to use numpy."
   ]
  },
  {
   "cell_type": "code",
   "execution_count": 17,
   "metadata": {
    "collapsed": true
   },
   "outputs": [],
   "source": [
    "import numpy as np"
   ]
  },
  {
   "cell_type": "code",
   "execution_count": 18,
   "metadata": {},
   "outputs": [
    {
     "data": {
      "text/plain": [
       "array([ 5.3,  5.8,  5. , ...,  5.5,  5. ,  5.4])"
      ]
     },
     "execution_count": 18,
     "metadata": {},
     "output_type": "execute_result"
    }
   ],
   "source": [
    "df.Magnitude.values.round(1)"
   ]
  },
  {
   "cell_type": "code",
   "execution_count": 19,
   "metadata": {
    "collapsed": true
   },
   "outputs": [],
   "source": [
    "hist, edges = np.histogram(a=df.Magnitude.values.round(1), bins=101, range=(0,10))\n",
    "chist = np.cumsum(hist[::-1])[::-1]"
   ]
  },
  {
   "cell_type": "code",
   "execution_count": 20,
   "metadata": {},
   "outputs": [
    {
     "data": {
      "text/plain": [
       "array([  0.        ,   0.0990099 ,   0.1980198 ,   0.2970297 ,\n",
       "         0.3960396 ,   0.4950495 ,   0.59405941,   0.69306931,\n",
       "         0.79207921,   0.89108911,   0.99009901,   1.08910891,\n",
       "         1.18811881,   1.28712871,   1.38613861,   1.48514851,\n",
       "         1.58415842,   1.68316832,   1.78217822,   1.88118812,\n",
       "         1.98019802,   2.07920792,   2.17821782,   2.27722772,\n",
       "         2.37623762,   2.47524752,   2.57425743,   2.67326733,\n",
       "         2.77227723,   2.87128713,   2.97029703,   3.06930693,\n",
       "         3.16831683,   3.26732673,   3.36633663,   3.46534653,\n",
       "         3.56435644,   3.66336634,   3.76237624,   3.86138614,\n",
       "         3.96039604,   4.05940594,   4.15841584,   4.25742574,\n",
       "         4.35643564,   4.45544554,   4.55445545,   4.65346535,\n",
       "         4.75247525,   4.85148515,   4.95049505,   5.04950495,\n",
       "         5.14851485,   5.24752475,   5.34653465,   5.44554455,\n",
       "         5.54455446,   5.64356436,   5.74257426,   5.84158416,\n",
       "         5.94059406,   6.03960396,   6.13861386,   6.23762376,\n",
       "         6.33663366,   6.43564356,   6.53465347,   6.63366337,\n",
       "         6.73267327,   6.83168317,   6.93069307,   7.02970297,\n",
       "         7.12871287,   7.22772277,   7.32673267,   7.42574257,\n",
       "         7.52475248,   7.62376238,   7.72277228,   7.82178218,\n",
       "         7.92079208,   8.01980198,   8.11881188,   8.21782178,\n",
       "         8.31683168,   8.41584158,   8.51485149,   8.61386139,\n",
       "         8.71287129,   8.81188119,   8.91089109,   9.00990099,\n",
       "         9.10891089,   9.20792079,   9.30693069,   9.40594059,\n",
       "         9.5049505 ,   9.6039604 ,   9.7029703 ,   9.8019802 ,\n",
       "         9.9009901 ,  10.        ])"
      ]
     },
     "execution_count": 20,
     "metadata": {},
     "output_type": "execute_result"
    }
   ],
   "source": [
    "edges"
   ]
  },
  {
   "cell_type": "code",
   "execution_count": 21,
   "metadata": {},
   "outputs": [
    {
     "data": {
      "text/plain": [
       "array([   0,    0,    0,    0,    0,    0,    0,    0,    0,    0,    0,\n",
       "          0,    0,    0,    0,    0,    0,    0,    0,    0,    0,    0,\n",
       "          0,    0,    0,    0,    0,    0,    0,    0,    0,    0,    0,\n",
       "          0,    0,    0,    0,    0,    0,    0,    0,    0,    0,    0,\n",
       "          0,    0,    0,    0,    0,    0, 4141, 3343, 2919, 2189, 1839,\n",
       "       1360, 1058,  854,  605,  543,  444,  334,  248,  212,  164,  111,\n",
       "        105,   71,   62,   41,   36,   30,   25,   15,   16,   14,   14,\n",
       "         12,   11,    5,    3,    5,    0,    2,    1,    1,    1,    0,\n",
       "          0,    0,    1,    0,    0,    0,    0,    0,    0,    0,    0,\n",
       "          0,    0])"
      ]
     },
     "execution_count": 21,
     "metadata": {},
     "output_type": "execute_result"
    }
   ],
   "source": [
    "hist"
   ]
  },
  {
   "cell_type": "code",
   "execution_count": 22,
   "metadata": {},
   "outputs": [
    {
     "data": {
      "text/plain": [
       "<matplotlib.text.Text at 0x1109e3f28>"
      ]
     },
     "execution_count": 22,
     "metadata": {},
     "output_type": "execute_result"
    },
    {
     "data": {
      "image/png": "[encoded data removed]",
      "text/plain": [
       "<matplotlib.figure.Figure at 0x110f42320>"
      ]
     },
     "metadata": {},
     "output_type": "display_data"
    }
   ],
   "source": [
    "fig, ax = plt.subplots()\n",
    "\n",
    "ax.plot(edges[:-1], hist, marker='s', color='None', linestyle='')\n",
    "ax.plot(edges[:-1], chist, marker='^', color='red', linestyle='')\n",
    "ax.set_yscale('log')\n",
    "ax.set_ylabel('N')\n",
    "ax.set_xlabel('Magnitude')\n",
    "# ax.set_xlim(4.5, 10)\n",
    "ax.set_title('Gutenburg-Richter Distribution')"
   ]
  },
  {
   "cell_type": "markdown",
   "metadata": {},
   "source": [
    "We quite frequently want to plot the fit of the <i>a</i> and <i>b</i> values of the gutenburg richter distribution. To do this, we are going to use the equation below which calculates the maximum likelihood of the distribution and returns the parameters:\n",
    "\n",
    "* <i>a</i> - the \"productivity\" of the distribution, but really just the y-intercept\n",
    "* <i>b</i> - the \"mean magnitude\" but really it's just the slope\n",
    "* <i>bstdev</i> - the standard deviation of <i>b</i>\n",
    "* <i>length</i> - the number of earthquakes used to calculate the values"
   ]
  },
  {
   "cell_type": "code",
   "execution_count": 23,
   "metadata": {
    "collapsed": true
   },
   "outputs": [],
   "source": [
    "def fmd_values(magnitudes, bin_width=0.1):\n",
    "    \"\"\"\n",
    "    params magnitudes : numpy.array\n",
    "    params bin_width : float\n",
    "    \n",
    "    returns a,b,bstd, n-values if above the earthquake count threshold\n",
    "    else returns np.nans\n",
    "    \"\"\"\n",
    "    length = magnitudes.shape[0]\n",
    "    minimum = magnitudes.min()\n",
    "    average = magnitudes.mean()\n",
    "    b_value = (1 / (average - (minimum - (bin_width/2)))) * np.log10(np.exp(1))\n",
    "    square_every_value = np.vectorize(lambda x: x**2)\n",
    "    b_stddev = square_every_value((magnitudes - average).sum()) / (length * (length - 1))\n",
    "    b_stddev = 2.3 * np.sqrt(b_stddev) * b_value**2\n",
    "    a_value = np.log10(length) + b_value * minimum\n",
    "    \n",
    "    return a_value, b_value, b_stddev, length"
   ]
  },
  {
   "cell_type": "code",
   "execution_count": 24,
   "metadata": {},
   "outputs": [
    {
     "data": {
      "text/plain": [
       "(9.3715887592244353, 1.0105590508862279, 1.0830164203641724e-15, 20835)"
      ]
     },
     "execution_count": 24,
     "metadata": {},
     "output_type": "execute_result"
    }
   ],
   "source": [
    "fmd_values(df.Magnitude.values)"
   ]
  },
  {
   "cell_type": "code",
   "execution_count": 25,
   "metadata": {
    "collapsed": true
   },
   "outputs": [],
   "source": [
    "a, b, bstd, n = fmd_values(df.Magnitude.values)"
   ]
  },
  {
   "cell_type": "markdown",
   "metadata": {},
   "source": [
    "Now that we have our values that represent the y-intercept (<i>a</i> value) and the slope (<i>b</i> value), let's plot a fitted line to our data."
   ]
  },
  {
   "cell_type": "code",
   "execution_count": 26,
   "metadata": {
    "collapsed": true
   },
   "outputs": [],
   "source": [
    "x = np.linspace(0,10, 1000)\n",
    "y = 10**(a - b*x)"
   ]
  },
  {
   "cell_type": "code",
   "execution_count": 27,
   "metadata": {},
   "outputs": [
    {
     "data": {
      "text/plain": [
       "<matplotlib.text.Text at 0x10efa76a0>"
      ]
     },
     "execution_count": 27,
     "metadata": {},
     "output_type": "execute_result"
    },
    {
     "data": {
      "image/png": "[encoded data removed]",
      "text/plain": [
       "<matplotlib.figure.Figure at 0x110e38048>"
      ]
     },
     "metadata": {},
     "output_type": "display_data"
    }
   ],
   "source": [
    "fig, ax = plt.subplots()\n",
    "\n",
    "ax.plot(edges[:-1], hist, marker='s', color='None', linestyle='')\n",
    "ax.plot(edges[:-1], chist, marker='^', color='red', linestyle='')\n",
    "\n",
    "ax.plot(x,y)\n",
    "\n",
    "ax.set_yscale('log')\n",
    "ax.set_ylabel('N')\n",
    "ax.set_xlabel('Magnitude')\n",
    "ax.set_xlim(4.5, 10)\n",
    "ax.set_ylim(1e0, 1e5)\n",
    "ax.set_title('Gutenburg-Richter Distribution')"
   ]
  },
  {
   "cell_type": "markdown",
   "metadata": {
    "collapsed": true
   },
   "source": [
    "This fit looks pretty good!"
   ]
  }
 ],
 "metadata": {
  "kernelspec": {
   "display_name": "Python [default]",
   "language": "python",
   "name": "python3"
  },
  "language_info": {
   "codemirror_mode": {
    "name": "ipython",
    "version": 3
   },
   "file_extension": ".py",
   "mimetype": "text/x-python",
   "name": "python",
   "nbconvert_exporter": "python",
   "pygments_lexer": "ipython3",
   "version": "3.5.0rc4"
  }
 },
 "nbformat": 4,
 "nbformat_minor": 1
}
