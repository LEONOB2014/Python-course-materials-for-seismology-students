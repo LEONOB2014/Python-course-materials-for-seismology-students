{
 "cells": [
  {
   "cell_type": "markdown",
   "metadata": {},
   "source": [
    "# Distance functions Examples\n",
    "\n",
    "Import the distance module"
   ]
  },
  {
   "cell_type": "code",
   "execution_count": 1,
   "metadata": {
    "collapsed": true
   },
   "outputs": [],
   "source": [
    "from utilities import distance\n",
    "from utilities import import_export\n",
    "\n",
    "df = import_export.import_catalog(location='/home/max/research/kumamoto/data/ccu.dat', delimiter='\\t', names=['lon', 'lat', 'decimal_year', 'month', 'day', 'mag'\n",
    "                                                        , 'depth', 'hour', 'minute', 'second', 'horizontal_error'\n",
    "                                                        , 'depth_error', 'mag_err'])"
   ]
  },
  {
   "cell_type": "markdown",
   "metadata": {},
   "source": [
    "# Create sample data"
   ]
  },
  {
   "cell_type": "code",
   "execution_count": 2,
   "metadata": {
    "collapsed": true
   },
   "outputs": [],
   "source": [
    "import pandas as pd\n",
    "import numpy as np"
   ]
  },
  {
   "cell_type": "code",
   "execution_count": 3,
   "metadata": {},
   "outputs": [],
   "source": [
    "ax, ay = (0, 0)#m(132, 30)\n",
    "az = 0\n",
    "a = [[132, 30, ax, ay, az]]\n",
    "a = pd.DataFrame(a, columns=['lon', 'lat', 'x', 'y', 'depth'], index=[pd.to_datetime('10-15-2015'),])\n",
    "a['depth'] = 25.\n",
    "df['x'] = 0\n",
    "df['y'] = 0\n",
    "b = df[['lat', 'lon', 'x', 'y', 'depth']].head(3)\n",
    "\n",
    "b['depth'] = [2, 3, 4]"
   ]
  },
  {
   "cell_type": "markdown",
   "metadata": {},
   "source": [
    "# Calculate distance between points\n",
    "\n",
    "all results are given in meters"
   ]
  },
  {
   "cell_type": "code",
   "execution_count": 20,
   "metadata": {},
   "outputs": [],
   "source": [
    "avec = (132, 30, 0, 0, 0)\n",
    "bvec = (139.9633, 37.32667, 0, 0, 0)"
   ]
  },
  {
   "cell_type": "code",
   "execution_count": 21,
   "metadata": {},
   "outputs": [
    {
     "data": {
      "text/plain": [
       "1097669.5261766417"
      ]
     },
     "execution_count": 21,
     "metadata": {},
     "output_type": "execute_result"
    }
   ],
   "source": [
    "distance.great_circle(avec[0], avec[1], avec[2], avec[3], avec[4]\n",
    "                     ,bvec[0], bvec[1], bvec[2], bvec[3], bvec[4])"
   ]
  },
  {
   "cell_type": "code",
   "execution_count": 22,
   "metadata": {},
   "outputs": [
    {
     "data": {
      "text/plain": [
       "1096312.3781431064"
      ]
     },
     "execution_count": 22,
     "metadata": {},
     "output_type": "execute_result"
    }
   ],
   "source": [
    "distance.cartesian_distance(avec[0], avec[1], avec[2], avec[3], avec[4]\n",
    "                     ,bvec[0], bvec[1], bvec[2], bvec[3], bvec[4])"
   ]
  },
  {
   "cell_type": "code",
   "execution_count": 23,
   "metadata": {},
   "outputs": [
    {
     "data": {
      "text/plain": [
       "1097669.5261766417"
      ]
     },
     "execution_count": 23,
     "metadata": {},
     "output_type": "execute_result"
    }
   ],
   "source": [
    "distance.gc_dist(avec, bvec)"
   ]
  },
  {
   "cell_type": "code",
   "execution_count": 24,
   "metadata": {},
   "outputs": [
    {
     "data": {
      "text/plain": [
       "1096312.3781431064"
      ]
     },
     "execution_count": 24,
     "metadata": {},
     "output_type": "execute_result"
    }
   ],
   "source": [
    "distance.c_dist(avec, bvec)"
   ]
  }
 ],
 "metadata": {
  "kernelspec": {
   "display_name": "Python 3",
   "language": "python",
   "name": "python3"
  }
 },
 "nbformat": 4,
 "nbformat_minor": 0
}
