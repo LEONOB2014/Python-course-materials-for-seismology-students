{
 "cells": [
  {
   "cell_type": "markdown",
   "metadata": {},
   "source": [
    "# Import modules"
   ]
  },
  {
   "cell_type": "code",
   "execution_count": 45,
   "metadata": {},
   "outputs": [],
   "source": [
    "import pandas as pd\n",
    "from utilities import distance"
   ]
  },
  {
   "cell_type": "markdown",
   "metadata": {},
   "source": [
    "# Read sample data"
   ]
  },
  {
   "cell_type": "code",
   "execution_count": 60,
   "metadata": {},
   "outputs": [],
   "source": [
    "df = pd.read_csv('data/anss.csv',delim_whitespace=True).loc[[2,3]]  # keep only the 2 events at index 2 and 3"
   ]
  },
  {
   "cell_type": "code",
   "execution_count": 61,
   "metadata": {},
   "outputs": [
    {
     "data": {
      "text/html": [
       "<div>\n",
       "<style>\n",
       "    .dataframe thead tr:only-child th {\n",
       "        text-align: right;\n",
       "    }\n",
       "\n",
       "    .dataframe thead th {\n",
       "        text-align: left;\n",
       "    }\n",
       "\n",
       "    .dataframe tbody tr th {\n",
       "        vertical-align: top;\n",
       "    }\n",
       "</style>\n",
       "<table border=\"1\" class=\"dataframe\">\n",
       "  <thead>\n",
       "    <tr style=\"text-align: right;\">\n",
       "      <th></th>\n",
       "      <th>Date</th>\n",
       "      <th>Time</th>\n",
       "      <th>Lat</th>\n",
       "      <th>Lon</th>\n",
       "      <th>Depth</th>\n",
       "      <th>Mag</th>\n",
       "      <th>Magt</th>\n",
       "      <th>Nst</th>\n",
       "      <th>Gap</th>\n",
       "      <th>Clo</th>\n",
       "      <th>RMS</th>\n",
       "      <th>SRC</th>\n",
       "      <th>Event</th>\n",
       "      <th>ID</th>\n",
       "    </tr>\n",
       "  </thead>\n",
       "  <tbody>\n",
       "    <tr>\n",
       "      <th>2</th>\n",
       "      <td>2002/01/01</td>\n",
       "      <td>19:53:06.95</td>\n",
       "      <td>-27.875</td>\n",
       "      <td>73.883</td>\n",
       "      <td>10.0</td>\n",
       "      <td>5.6</td>\n",
       "      <td>Mw</td>\n",
       "      <td>27</td>\n",
       "      <td>0.88</td>\n",
       "      <td>NEI</td>\n",
       "      <td>2.002010e+11</td>\n",
       "      <td>NaN</td>\n",
       "      <td>NaN</td>\n",
       "      <td>NaN</td>\n",
       "    </tr>\n",
       "    <tr>\n",
       "      <th>3</th>\n",
       "      <td>2002/01/01</td>\n",
       "      <td>21:25:20.02</td>\n",
       "      <td>-27.874</td>\n",
       "      <td>74.007</td>\n",
       "      <td>10.0</td>\n",
       "      <td>5.1</td>\n",
       "      <td>Mw</td>\n",
       "      <td>21</td>\n",
       "      <td>0.34</td>\n",
       "      <td>NEI</td>\n",
       "      <td>2.002010e+11</td>\n",
       "      <td>NaN</td>\n",
       "      <td>NaN</td>\n",
       "      <td>NaN</td>\n",
       "    </tr>\n",
       "  </tbody>\n",
       "</table>\n",
       "</div>"
      ],
      "text/plain": [
       "         Date         Time     Lat     Lon  Depth  Mag Magt  Nst   Gap  Clo  \\\n",
       "2  2002/01/01  19:53:06.95 -27.875  73.883   10.0  5.6   Mw   27  0.88  NEI   \n",
       "3  2002/01/01  21:25:20.02 -27.874  74.007   10.0  5.1   Mw   21  0.34  NEI   \n",
       "\n",
       "            RMS  SRC  Event  ID  \n",
       "2  2.002010e+11  NaN    NaN NaN  \n",
       "3  2.002010e+11  NaN    NaN NaN  "
      ]
     },
     "execution_count": 61,
     "metadata": {},
     "output_type": "execute_result"
    }
   ],
   "source": [
    "df.head()"
   ]
  },
  {
   "cell_type": "markdown",
   "metadata": {},
   "source": [
    "# Get locations of event A and event B"
   ]
  },
  {
   "cell_type": "code",
   "execution_count": 66,
   "metadata": {},
   "outputs": [
    {
     "data": {
      "text/plain": [
       "(73.882999999999996, -27.875, 0, 0, 10.0)"
      ]
     },
     "execution_count": 66,
     "metadata": {},
     "output_type": "execute_result"
    }
   ],
   "source": [
    "# event A\n",
    "\n",
    "aIndex = df.index[0]\n",
    "ax, ay, az = (0, 0, df.Depth[aIndex])                    # x, y, and depth\n",
    "aLon, aLat = (df.Lon[aIndex], df.Lat[aIndex])            # longitude and latitude\n",
    "avec = (aLon, aLat, ax, ay, az)\n",
    "\n",
    "avec"
   ]
  },
  {
   "cell_type": "code",
   "execution_count": 65,
   "metadata": {},
   "outputs": [
    {
     "data": {
      "text/plain": [
       "(74.007000000000005, -27.873999999999999, 0, 0, 10.0)"
      ]
     },
     "execution_count": 65,
     "metadata": {},
     "output_type": "execute_result"
    }
   ],
   "source": [
    "# event B\n",
    "\n",
    "bIndex = df.index[1]\n",
    "bx, by, bz = (0, 0, df.Depth[bIndex])                    # x, y, and depth\n",
    "bLon, bLat = (df.Lon[bIndex], df.Lat[bIndex])            # longitude and latitude\n",
    "bvec = (bLon, bLat, bx, by, bz)\n",
    "\n",
    "bvec"
   ]
  },
  {
   "cell_type": "markdown",
   "metadata": {},
   "source": [
    "# Calculate the great circle distance between event A and event B\n",
    "\n",
    "All results are given in meters.\n",
    "\n",
    "Method 1:"
   ]
  },
  {
   "cell_type": "code",
   "execution_count": 67,
   "metadata": {},
   "outputs": [
    {
     "data": {
      "text/plain": [
       "12188.888500322124"
      ]
     },
     "execution_count": 67,
     "metadata": {},
     "output_type": "execute_result"
    }
   ],
   "source": [
    "distance.great_circle(avec[0], avec[1], avec[2], avec[3], avec[4]\n",
    "                     ,bvec[0], bvec[1], bvec[2], bvec[3], bvec[4])"
   ]
  },
  {
   "cell_type": "markdown",
   "metadata": {},
   "source": [
    "Method 2:"
   ]
  },
  {
   "cell_type": "code",
   "execution_count": 68,
   "metadata": {},
   "outputs": [
    {
     "data": {
      "text/plain": [
       "12188.888500322124"
      ]
     },
     "execution_count": 68,
     "metadata": {},
     "output_type": "execute_result"
    }
   ],
   "source": [
    "distance.gc_dist(avec, bvec)"
   ]
  },
  {
   "cell_type": "markdown",
   "metadata": {},
   "source": [
    "# Calculate the cartesian distance between event A and event B\n",
    "\n",
    "All results are given in meters.\n",
    "\n",
    "Method 1:"
   ]
  },
  {
   "cell_type": "code",
   "execution_count": 69,
   "metadata": {},
   "outputs": [
    {
     "data": {
      "text/plain": [
       "12169.754814914446"
      ]
     },
     "execution_count": 69,
     "metadata": {},
     "output_type": "execute_result"
    }
   ],
   "source": [
    "distance.cartesian_distance(avec[0], avec[1], avec[2], avec[3], avec[4]\n",
    "                     ,bvec[0], bvec[1], bvec[2], bvec[3], bvec[4])"
   ]
  },
  {
   "cell_type": "markdown",
   "metadata": {},
   "source": [
    "Method 2:"
   ]
  },
  {
   "cell_type": "code",
   "execution_count": 70,
   "metadata": {},
   "outputs": [
    {
     "data": {
      "text/plain": [
       "12169.754814914446"
      ]
     },
     "execution_count": 70,
     "metadata": {},
     "output_type": "execute_result"
    }
   ],
   "source": [
    "distance.c_dist(avec, bvec)"
   ]
  }
 ],
 "metadata": {
  "kernelspec": {
   "display_name": "Python [default]",
   "language": "python",
   "name": "python3"
  }
 },
 "nbformat": 4,
 "nbformat_minor": 1
}
